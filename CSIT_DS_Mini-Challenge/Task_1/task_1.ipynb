{
 "cells": [
  {
   "cell_type": "code",
   "execution_count": 7,
   "metadata": {},
   "outputs": [],
   "source": [
    "import librosa\n",
    "import librosa.display"
   ]
  },
  {
   "cell_type": "code",
   "execution_count": 15,
   "metadata": {},
   "outputs": [
    {
     "name": "stdout",
     "output_type": "stream",
     "text": [
      "(584766,)\n",
      "22050\n",
      "[-2.2130685e-05 -4.0208281e-05 -1.0713178e-05 ... -2.4200053e-06\n",
      " -2.3992461e-05 -3.3187345e-05]\n"
     ]
    }
   ],
   "source": [
    "x, sr = librosa.load('T1_audio.wav')\n",
    "\n",
    "print(x.shape)\n",
    "print(sr)\n",
    "print(x)"
   ]
  },
  {
   "cell_type": "code",
   "execution_count": 25,
   "metadata": {},
   "outputs": [
    {
     "name": "stdout",
     "output_type": "stream",
     "text": [
      "(584766,)\n"
     ]
    }
   ],
   "source": [
    "import numpy as np\n",
    "\n",
    "res_arr=np.flip(x)\n",
    "y_fast = librosa.effects.time_stretch(res_arr, rate=1.0)\n",
    "\n",
    "print(y_fast.shape)"
   ]
  },
  {
   "cell_type": "code",
   "execution_count": 26,
   "metadata": {},
   "outputs": [],
   "source": [
    "import soundfile as sf\n",
    "\n",
    "sf.write('placeholder.wav', y_fast, sr)"
   ]
  }
 ],
 "metadata": {
  "kernelspec": {
   "display_name": "venv",
   "language": "python",
   "name": "python3"
  },
  "language_info": {
   "codemirror_mode": {
    "name": "ipython",
    "version": 3
   },
   "file_extension": ".py",
   "mimetype": "text/x-python",
   "name": "python",
   "nbconvert_exporter": "python",
   "pygments_lexer": "ipython3",
   "version": "3.11.4"
  }
 },
 "nbformat": 4,
 "nbformat_minor": 2
}
